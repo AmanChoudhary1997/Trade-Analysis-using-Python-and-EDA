{
 "cells": [
  {
   "cell_type": "markdown",
   "id": "022920a3",
   "metadata": {},
   "source": [
    "# Trade Analysis"
   ]
  },
  {
   "cell_type": "code",
   "execution_count": 1,
   "id": "cef4fbff",
   "metadata": {},
   "outputs": [],
   "source": [
    "import pandas as pd"
   ]
  },
  {
   "cell_type": "code",
   "execution_count": 2,
   "id": "118f6d65",
   "metadata": {},
   "outputs": [],
   "source": [
    "df = pd.read_csv(r'C:\\Users\\hp\\Downloads\\effects-of-covid-19-on-trade-at-15-december-2021-provisional.csv')"
   ]
  },
  {
   "cell_type": "code",
   "execution_count": 3,
   "id": "264f520a",
   "metadata": {},
   "outputs": [
    {
     "data": {
      "text/html": [
       "<div>\n",
       "<style scoped>\n",
       "    .dataframe tbody tr th:only-of-type {\n",
       "        vertical-align: middle;\n",
       "    }\n",
       "\n",
       "    .dataframe tbody tr th {\n",
       "        vertical-align: top;\n",
       "    }\n",
       "\n",
       "    .dataframe thead th {\n",
       "        text-align: right;\n",
       "    }\n",
       "</style>\n",
       "<table border=\"1\" class=\"dataframe\">\n",
       "  <thead>\n",
       "    <tr style=\"text-align: right;\">\n",
       "      <th></th>\n",
       "      <th>Direction</th>\n",
       "      <th>Year</th>\n",
       "      <th>Date</th>\n",
       "      <th>Weekday</th>\n",
       "      <th>Country</th>\n",
       "      <th>Commodity</th>\n",
       "      <th>Transport_Mode</th>\n",
       "      <th>Measure</th>\n",
       "      <th>Value</th>\n",
       "      <th>Cumulative</th>\n",
       "    </tr>\n",
       "  </thead>\n",
       "  <tbody>\n",
       "    <tr>\n",
       "      <th>0</th>\n",
       "      <td>Exports</td>\n",
       "      <td>2015</td>\n",
       "      <td>01/01/2015</td>\n",
       "      <td>Thursday</td>\n",
       "      <td>All</td>\n",
       "      <td>All</td>\n",
       "      <td>All</td>\n",
       "      <td>$</td>\n",
       "      <td>104000000</td>\n",
       "      <td>104000000</td>\n",
       "    </tr>\n",
       "    <tr>\n",
       "      <th>1</th>\n",
       "      <td>Exports</td>\n",
       "      <td>2015</td>\n",
       "      <td>02/01/2015</td>\n",
       "      <td>Friday</td>\n",
       "      <td>All</td>\n",
       "      <td>All</td>\n",
       "      <td>All</td>\n",
       "      <td>$</td>\n",
       "      <td>96000000</td>\n",
       "      <td>200000000</td>\n",
       "    </tr>\n",
       "    <tr>\n",
       "      <th>2</th>\n",
       "      <td>Exports</td>\n",
       "      <td>2015</td>\n",
       "      <td>03/01/2015</td>\n",
       "      <td>Saturday</td>\n",
       "      <td>All</td>\n",
       "      <td>All</td>\n",
       "      <td>All</td>\n",
       "      <td>$</td>\n",
       "      <td>61000000</td>\n",
       "      <td>262000000</td>\n",
       "    </tr>\n",
       "    <tr>\n",
       "      <th>3</th>\n",
       "      <td>Exports</td>\n",
       "      <td>2015</td>\n",
       "      <td>04/01/2015</td>\n",
       "      <td>Sunday</td>\n",
       "      <td>All</td>\n",
       "      <td>All</td>\n",
       "      <td>All</td>\n",
       "      <td>$</td>\n",
       "      <td>74000000</td>\n",
       "      <td>336000000</td>\n",
       "    </tr>\n",
       "    <tr>\n",
       "      <th>4</th>\n",
       "      <td>Exports</td>\n",
       "      <td>2015</td>\n",
       "      <td>05/01/2015</td>\n",
       "      <td>Monday</td>\n",
       "      <td>All</td>\n",
       "      <td>All</td>\n",
       "      <td>All</td>\n",
       "      <td>$</td>\n",
       "      <td>105000000</td>\n",
       "      <td>442000000</td>\n",
       "    </tr>\n",
       "    <tr>\n",
       "      <th>...</th>\n",
       "      <td>...</td>\n",
       "      <td>...</td>\n",
       "      <td>...</td>\n",
       "      <td>...</td>\n",
       "      <td>...</td>\n",
       "      <td>...</td>\n",
       "      <td>...</td>\n",
       "      <td>...</td>\n",
       "      <td>...</td>\n",
       "      <td>...</td>\n",
       "    </tr>\n",
       "    <tr>\n",
       "      <th>111433</th>\n",
       "      <td>Reimports</td>\n",
       "      <td>2021</td>\n",
       "      <td>11/12/2021</td>\n",
       "      <td>Saturday</td>\n",
       "      <td>All</td>\n",
       "      <td>All</td>\n",
       "      <td>All</td>\n",
       "      <td>$</td>\n",
       "      <td>0</td>\n",
       "      <td>165000000</td>\n",
       "    </tr>\n",
       "    <tr>\n",
       "      <th>111434</th>\n",
       "      <td>Reimports</td>\n",
       "      <td>2021</td>\n",
       "      <td>12/12/2021</td>\n",
       "      <td>Sunday</td>\n",
       "      <td>All</td>\n",
       "      <td>All</td>\n",
       "      <td>All</td>\n",
       "      <td>$</td>\n",
       "      <td>0</td>\n",
       "      <td>165000000</td>\n",
       "    </tr>\n",
       "    <tr>\n",
       "      <th>111435</th>\n",
       "      <td>Reimports</td>\n",
       "      <td>2021</td>\n",
       "      <td>13/12/2021</td>\n",
       "      <td>Monday</td>\n",
       "      <td>All</td>\n",
       "      <td>All</td>\n",
       "      <td>All</td>\n",
       "      <td>$</td>\n",
       "      <td>2000000</td>\n",
       "      <td>166000000</td>\n",
       "    </tr>\n",
       "    <tr>\n",
       "      <th>111436</th>\n",
       "      <td>Reimports</td>\n",
       "      <td>2021</td>\n",
       "      <td>14/12/2021</td>\n",
       "      <td>Tuesday</td>\n",
       "      <td>All</td>\n",
       "      <td>All</td>\n",
       "      <td>All</td>\n",
       "      <td>$</td>\n",
       "      <td>1000000</td>\n",
       "      <td>167000000</td>\n",
       "    </tr>\n",
       "    <tr>\n",
       "      <th>111437</th>\n",
       "      <td>Reimports</td>\n",
       "      <td>2021</td>\n",
       "      <td>15/12/2021</td>\n",
       "      <td>Wednesday</td>\n",
       "      <td>All</td>\n",
       "      <td>All</td>\n",
       "      <td>All</td>\n",
       "      <td>$</td>\n",
       "      <td>1000000</td>\n",
       "      <td>168000000</td>\n",
       "    </tr>\n",
       "  </tbody>\n",
       "</table>\n",
       "<p>111438 rows × 10 columns</p>\n",
       "</div>"
      ],
      "text/plain": [
       "        Direction  Year        Date    Weekday Country Commodity  \\\n",
       "0         Exports  2015  01/01/2015   Thursday     All       All   \n",
       "1         Exports  2015  02/01/2015     Friday     All       All   \n",
       "2         Exports  2015  03/01/2015   Saturday     All       All   \n",
       "3         Exports  2015  04/01/2015     Sunday     All       All   \n",
       "4         Exports  2015  05/01/2015     Monday     All       All   \n",
       "...           ...   ...         ...        ...     ...       ...   \n",
       "111433  Reimports  2021  11/12/2021   Saturday     All       All   \n",
       "111434  Reimports  2021  12/12/2021     Sunday     All       All   \n",
       "111435  Reimports  2021  13/12/2021     Monday     All       All   \n",
       "111436  Reimports  2021  14/12/2021    Tuesday     All       All   \n",
       "111437  Reimports  2021  15/12/2021  Wednesday     All       All   \n",
       "\n",
       "       Transport_Mode Measure      Value  Cumulative  \n",
       "0                 All       $  104000000   104000000  \n",
       "1                 All       $   96000000   200000000  \n",
       "2                 All       $   61000000   262000000  \n",
       "3                 All       $   74000000   336000000  \n",
       "4                 All       $  105000000   442000000  \n",
       "...               ...     ...        ...         ...  \n",
       "111433            All       $          0   165000000  \n",
       "111434            All       $          0   165000000  \n",
       "111435            All       $    2000000   166000000  \n",
       "111436            All       $    1000000   167000000  \n",
       "111437            All       $    1000000   168000000  \n",
       "\n",
       "[111438 rows x 10 columns]"
      ]
     },
     "execution_count": 3,
     "metadata": {},
     "output_type": "execute_result"
    }
   ],
   "source": [
    "df"
   ]
  },
  {
   "cell_type": "code",
   "execution_count": 4,
   "id": "a1a8d898",
   "metadata": {},
   "outputs": [],
   "source": [
    "df.rename(columns= {'Transport_Mode' : 'Transport Mode'}, inplace = True )"
   ]
  },
  {
   "cell_type": "code",
   "execution_count": 5,
   "id": "e4b5d1b9",
   "metadata": {},
   "outputs": [
    {
     "data": {
      "text/html": [
       "<div>\n",
       "<style scoped>\n",
       "    .dataframe tbody tr th:only-of-type {\n",
       "        vertical-align: middle;\n",
       "    }\n",
       "\n",
       "    .dataframe tbody tr th {\n",
       "        vertical-align: top;\n",
       "    }\n",
       "\n",
       "    .dataframe thead th {\n",
       "        text-align: right;\n",
       "    }\n",
       "</style>\n",
       "<table border=\"1\" class=\"dataframe\">\n",
       "  <thead>\n",
       "    <tr style=\"text-align: right;\">\n",
       "      <th></th>\n",
       "      <th>Direction</th>\n",
       "      <th>Year</th>\n",
       "      <th>Date</th>\n",
       "      <th>Weekday</th>\n",
       "      <th>Country</th>\n",
       "      <th>Commodity</th>\n",
       "      <th>Transport Mode</th>\n",
       "      <th>Measure</th>\n",
       "      <th>Value</th>\n",
       "      <th>Cumulative</th>\n",
       "    </tr>\n",
       "  </thead>\n",
       "  <tbody>\n",
       "    <tr>\n",
       "      <th>0</th>\n",
       "      <td>Exports</td>\n",
       "      <td>2015</td>\n",
       "      <td>01/01/2015</td>\n",
       "      <td>Thursday</td>\n",
       "      <td>All</td>\n",
       "      <td>All</td>\n",
       "      <td>All</td>\n",
       "      <td>$</td>\n",
       "      <td>104000000</td>\n",
       "      <td>104000000</td>\n",
       "    </tr>\n",
       "    <tr>\n",
       "      <th>1</th>\n",
       "      <td>Exports</td>\n",
       "      <td>2015</td>\n",
       "      <td>02/01/2015</td>\n",
       "      <td>Friday</td>\n",
       "      <td>All</td>\n",
       "      <td>All</td>\n",
       "      <td>All</td>\n",
       "      <td>$</td>\n",
       "      <td>96000000</td>\n",
       "      <td>200000000</td>\n",
       "    </tr>\n",
       "    <tr>\n",
       "      <th>2</th>\n",
       "      <td>Exports</td>\n",
       "      <td>2015</td>\n",
       "      <td>03/01/2015</td>\n",
       "      <td>Saturday</td>\n",
       "      <td>All</td>\n",
       "      <td>All</td>\n",
       "      <td>All</td>\n",
       "      <td>$</td>\n",
       "      <td>61000000</td>\n",
       "      <td>262000000</td>\n",
       "    </tr>\n",
       "    <tr>\n",
       "      <th>3</th>\n",
       "      <td>Exports</td>\n",
       "      <td>2015</td>\n",
       "      <td>04/01/2015</td>\n",
       "      <td>Sunday</td>\n",
       "      <td>All</td>\n",
       "      <td>All</td>\n",
       "      <td>All</td>\n",
       "      <td>$</td>\n",
       "      <td>74000000</td>\n",
       "      <td>336000000</td>\n",
       "    </tr>\n",
       "    <tr>\n",
       "      <th>4</th>\n",
       "      <td>Exports</td>\n",
       "      <td>2015</td>\n",
       "      <td>05/01/2015</td>\n",
       "      <td>Monday</td>\n",
       "      <td>All</td>\n",
       "      <td>All</td>\n",
       "      <td>All</td>\n",
       "      <td>$</td>\n",
       "      <td>105000000</td>\n",
       "      <td>442000000</td>\n",
       "    </tr>\n",
       "  </tbody>\n",
       "</table>\n",
       "</div>"
      ],
      "text/plain": [
       "  Direction  Year        Date   Weekday Country Commodity Transport Mode  \\\n",
       "0   Exports  2015  01/01/2015  Thursday     All       All            All   \n",
       "1   Exports  2015  02/01/2015    Friday     All       All            All   \n",
       "2   Exports  2015  03/01/2015  Saturday     All       All            All   \n",
       "3   Exports  2015  04/01/2015    Sunday     All       All            All   \n",
       "4   Exports  2015  05/01/2015    Monday     All       All            All   \n",
       "\n",
       "  Measure      Value  Cumulative  \n",
       "0       $  104000000   104000000  \n",
       "1       $   96000000   200000000  \n",
       "2       $   61000000   262000000  \n",
       "3       $   74000000   336000000  \n",
       "4       $  105000000   442000000  "
      ]
     },
     "execution_count": 5,
     "metadata": {},
     "output_type": "execute_result"
    }
   ],
   "source": [
    "df.head()"
   ]
  },
  {
   "cell_type": "code",
   "execution_count": 6,
   "id": "a212fe58",
   "metadata": {},
   "outputs": [
    {
     "name": "stderr",
     "output_type": "stream",
     "text": [
      "C:\\Users\\hp\\AppData\\Local\\Temp\\ipykernel_18988\\2394721818.py:1: UserWarning: Parsing dates in DD/MM/YYYY format when dayfirst=False (the default) was specified. This may lead to inconsistently parsed dates! Specify a format to ensure consistent parsing.\n",
      "  df['Date'] = pd.to_datetime(df['Date'])\n"
     ]
    }
   ],
   "source": [
    "#Converting into datetime format\n",
    "df['Date'] = pd.to_datetime(df['Date'])"
   ]
  },
  {
   "cell_type": "code",
   "execution_count": 7,
   "id": "c3133a8b",
   "metadata": {},
   "outputs": [
    {
     "data": {
      "text/html": [
       "<div>\n",
       "<style scoped>\n",
       "    .dataframe tbody tr th:only-of-type {\n",
       "        vertical-align: middle;\n",
       "    }\n",
       "\n",
       "    .dataframe tbody tr th {\n",
       "        vertical-align: top;\n",
       "    }\n",
       "\n",
       "    .dataframe thead th {\n",
       "        text-align: right;\n",
       "    }\n",
       "</style>\n",
       "<table border=\"1\" class=\"dataframe\">\n",
       "  <thead>\n",
       "    <tr style=\"text-align: right;\">\n",
       "      <th></th>\n",
       "      <th>Direction</th>\n",
       "      <th>Year</th>\n",
       "      <th>Date</th>\n",
       "      <th>Weekday</th>\n",
       "      <th>Country</th>\n",
       "      <th>Commodity</th>\n",
       "      <th>Transport Mode</th>\n",
       "      <th>Measure</th>\n",
       "      <th>Value</th>\n",
       "      <th>Cumulative</th>\n",
       "    </tr>\n",
       "  </thead>\n",
       "  <tbody>\n",
       "    <tr>\n",
       "      <th>0</th>\n",
       "      <td>Exports</td>\n",
       "      <td>2015</td>\n",
       "      <td>2015-01-01</td>\n",
       "      <td>Thursday</td>\n",
       "      <td>All</td>\n",
       "      <td>All</td>\n",
       "      <td>All</td>\n",
       "      <td>$</td>\n",
       "      <td>104000000</td>\n",
       "      <td>104000000</td>\n",
       "    </tr>\n",
       "    <tr>\n",
       "      <th>1</th>\n",
       "      <td>Exports</td>\n",
       "      <td>2015</td>\n",
       "      <td>2015-02-01</td>\n",
       "      <td>Friday</td>\n",
       "      <td>All</td>\n",
       "      <td>All</td>\n",
       "      <td>All</td>\n",
       "      <td>$</td>\n",
       "      <td>96000000</td>\n",
       "      <td>200000000</td>\n",
       "    </tr>\n",
       "    <tr>\n",
       "      <th>2</th>\n",
       "      <td>Exports</td>\n",
       "      <td>2015</td>\n",
       "      <td>2015-03-01</td>\n",
       "      <td>Saturday</td>\n",
       "      <td>All</td>\n",
       "      <td>All</td>\n",
       "      <td>All</td>\n",
       "      <td>$</td>\n",
       "      <td>61000000</td>\n",
       "      <td>262000000</td>\n",
       "    </tr>\n",
       "    <tr>\n",
       "      <th>3</th>\n",
       "      <td>Exports</td>\n",
       "      <td>2015</td>\n",
       "      <td>2015-04-01</td>\n",
       "      <td>Sunday</td>\n",
       "      <td>All</td>\n",
       "      <td>All</td>\n",
       "      <td>All</td>\n",
       "      <td>$</td>\n",
       "      <td>74000000</td>\n",
       "      <td>336000000</td>\n",
       "    </tr>\n",
       "    <tr>\n",
       "      <th>4</th>\n",
       "      <td>Exports</td>\n",
       "      <td>2015</td>\n",
       "      <td>2015-05-01</td>\n",
       "      <td>Monday</td>\n",
       "      <td>All</td>\n",
       "      <td>All</td>\n",
       "      <td>All</td>\n",
       "      <td>$</td>\n",
       "      <td>105000000</td>\n",
       "      <td>442000000</td>\n",
       "    </tr>\n",
       "  </tbody>\n",
       "</table>\n",
       "</div>"
      ],
      "text/plain": [
       "  Direction  Year       Date   Weekday Country Commodity Transport Mode  \\\n",
       "0   Exports  2015 2015-01-01  Thursday     All       All            All   \n",
       "1   Exports  2015 2015-02-01    Friday     All       All            All   \n",
       "2   Exports  2015 2015-03-01  Saturday     All       All            All   \n",
       "3   Exports  2015 2015-04-01    Sunday     All       All            All   \n",
       "4   Exports  2015 2015-05-01    Monday     All       All            All   \n",
       "\n",
       "  Measure      Value  Cumulative  \n",
       "0       $  104000000   104000000  \n",
       "1       $   96000000   200000000  \n",
       "2       $   61000000   262000000  \n",
       "3       $   74000000   336000000  \n",
       "4       $  105000000   442000000  "
      ]
     },
     "execution_count": 7,
     "metadata": {},
     "output_type": "execute_result"
    }
   ],
   "source": [
    "df.head()\n"
   ]
  },
  {
   "cell_type": "code",
   "execution_count": 8,
   "id": "07a80ee5",
   "metadata": {},
   "outputs": [
    {
     "name": "stdout",
     "output_type": "stream",
     "text": [
      "<class 'pandas.core.frame.DataFrame'>\n",
      "RangeIndex: 111438 entries, 0 to 111437\n",
      "Data columns (total 10 columns):\n",
      " #   Column          Non-Null Count   Dtype         \n",
      "---  ------          --------------   -----         \n",
      " 0   Direction       111438 non-null  object        \n",
      " 1   Year            111438 non-null  int64         \n",
      " 2   Date            111438 non-null  datetime64[ns]\n",
      " 3   Weekday         111438 non-null  object        \n",
      " 4   Country         111438 non-null  object        \n",
      " 5   Commodity       111438 non-null  object        \n",
      " 6   Transport Mode  111438 non-null  object        \n",
      " 7   Measure         111438 non-null  object        \n",
      " 8   Value           111438 non-null  int64         \n",
      " 9   Cumulative      111438 non-null  int64         \n",
      "dtypes: datetime64[ns](1), int64(3), object(6)\n",
      "memory usage: 8.5+ MB\n"
     ]
    }
   ],
   "source": [
    "df.info()"
   ]
  },
  {
   "cell_type": "code",
   "execution_count": 9,
   "id": "91da88a3",
   "metadata": {},
   "outputs": [
    {
     "data": {
      "text/plain": [
       "count     111438\n",
       "unique         9\n",
       "top          All\n",
       "freq       50801\n",
       "Name: Country, dtype: object"
      ]
     },
     "execution_count": 9,
     "metadata": {},
     "output_type": "execute_result"
    }
   ],
   "source": [
    "df[\"Country\"].describe()"
   ]
  },
  {
   "cell_type": "code",
   "execution_count": 10,
   "id": "fc478b59",
   "metadata": {},
   "outputs": [
    {
     "name": "stdout",
     "output_type": "stream",
     "text": [
      "['All' 'China' 'Australia' 'United States' 'Japan' 'United Kingdom'\n",
      " 'European Union (27)' 'East Asia (excluding China)'\n",
      " 'Total (excluding China)']\n"
     ]
    }
   ],
   "source": [
    "print(df['Country'].unique())"
   ]
  },
  {
   "cell_type": "code",
   "execution_count": 11,
   "id": "07e6902c",
   "metadata": {},
   "outputs": [
    {
     "data": {
      "text/plain": [
       "array(['All', 'Air', 'Sea'], dtype=object)"
      ]
     },
     "execution_count": 11,
     "metadata": {},
     "output_type": "execute_result"
    }
   ],
   "source": [
    "df['Transport Mode'].unique()"
   ]
  },
  {
   "cell_type": "code",
   "execution_count": 12,
   "id": "63f7a348",
   "metadata": {},
   "outputs": [
    {
     "name": "stdout",
     "output_type": "stream",
     "text": [
      "['All' 'Milk powder, butter, and cheese' 'Meat and edible offal'\n",
      " 'Logs, wood, and wood articles' 'Fish, crustaceans, and molluscs' 'Fruit'\n",
      " 'Non-food manufactured goods' 'Mechanical machinery and equip'\n",
      " 'Electrical machinery and equip']\n"
     ]
    }
   ],
   "source": [
    "print(df['Commodity'].unique())"
   ]
  },
  {
   "cell_type": "code",
   "execution_count": 15,
   "id": "7e301bba",
   "metadata": {},
   "outputs": [
    {
     "name": "stdout",
     "output_type": "stream",
     "text": [
      "                        Country Transport Mode          Value\n",
      "0                           All            Air   132602000000\n",
      "1                           All            All  1514387349000\n",
      "2                           All            Sea   668400000000\n",
      "3                     Australia            All   107686000000\n",
      "4                         China            All   282769573000\n",
      "5   East Asia (excluding China)            All   116562137000\n",
      "6           European Union (27)            All    26644000000\n",
      "7                         Japan            All    23155000000\n",
      "8       Total (excluding China)            All   291991000000\n",
      "9                United Kingdom            All    21591000000\n",
      "10                United States            All    52321338000\n"
     ]
    }
   ],
   "source": [
    "grouped_sum= df.groupby(['Country','Transport Mode'])['Value'].sum().reset_index()\n",
    "print(grouped_sum)"
   ]
  },
  {
   "cell_type": "code",
   "execution_count": 16,
   "id": "f3eceee0",
   "metadata": {},
   "outputs": [
    {
     "name": "stdout",
     "output_type": "stream",
     "text": [
      "   Year         Value    Cumulative\n",
      "0  2015  2.550866e+07  4.594115e+09\n",
      "1  2016  2.518743e+07  4.591304e+09\n",
      "2  2017  2.781532e+07  4.926312e+09\n",
      "3  2018  3.015929e+07  5.392358e+09\n",
      "4  2019  3.121065e+07  5.638055e+09\n",
      "5  2020  2.987004e+07  5.447914e+09\n",
      "6  2021  3.385023e+07  5.649061e+09\n"
     ]
    }
   ],
   "source": [
    "grouped_avg = df.groupby(['Year'])[['Value','Cumulative']].mean().reset_index()\n",
    "print(grouped_avg)"
   ]
  },
  {
   "cell_type": "code",
   "execution_count": 17,
   "id": "f86dcb2e",
   "metadata": {},
   "outputs": [],
   "source": [
    "df['Month Name'] = df['Date'].dt.month_name()"
   ]
  },
  {
   "cell_type": "code",
   "execution_count": 19,
   "id": "4fc7ed88",
   "metadata": {},
   "outputs": [
    {
     "data": {
      "text/html": [
       "<div>\n",
       "<style scoped>\n",
       "    .dataframe tbody tr th:only-of-type {\n",
       "        vertical-align: middle;\n",
       "    }\n",
       "\n",
       "    .dataframe tbody tr th {\n",
       "        vertical-align: top;\n",
       "    }\n",
       "\n",
       "    .dataframe thead th {\n",
       "        text-align: right;\n",
       "    }\n",
       "</style>\n",
       "<table border=\"1\" class=\"dataframe\">\n",
       "  <thead>\n",
       "    <tr style=\"text-align: right;\">\n",
       "      <th></th>\n",
       "      <th>Direction</th>\n",
       "      <th>Year</th>\n",
       "      <th>Date</th>\n",
       "      <th>Weekday</th>\n",
       "      <th>Country</th>\n",
       "      <th>Commodity</th>\n",
       "      <th>Transport Mode</th>\n",
       "      <th>Measure</th>\n",
       "      <th>Value</th>\n",
       "      <th>Cumulative</th>\n",
       "      <th>Month Name</th>\n",
       "    </tr>\n",
       "  </thead>\n",
       "  <tbody>\n",
       "    <tr>\n",
       "      <th>0</th>\n",
       "      <td>Exports</td>\n",
       "      <td>2015</td>\n",
       "      <td>2015-01-01</td>\n",
       "      <td>Thursday</td>\n",
       "      <td>All</td>\n",
       "      <td>All</td>\n",
       "      <td>All</td>\n",
       "      <td>$</td>\n",
       "      <td>104000000</td>\n",
       "      <td>104000000</td>\n",
       "      <td>January</td>\n",
       "    </tr>\n",
       "    <tr>\n",
       "      <th>1</th>\n",
       "      <td>Exports</td>\n",
       "      <td>2015</td>\n",
       "      <td>2015-02-01</td>\n",
       "      <td>Friday</td>\n",
       "      <td>All</td>\n",
       "      <td>All</td>\n",
       "      <td>All</td>\n",
       "      <td>$</td>\n",
       "      <td>96000000</td>\n",
       "      <td>200000000</td>\n",
       "      <td>February</td>\n",
       "    </tr>\n",
       "    <tr>\n",
       "      <th>2</th>\n",
       "      <td>Exports</td>\n",
       "      <td>2015</td>\n",
       "      <td>2015-03-01</td>\n",
       "      <td>Saturday</td>\n",
       "      <td>All</td>\n",
       "      <td>All</td>\n",
       "      <td>All</td>\n",
       "      <td>$</td>\n",
       "      <td>61000000</td>\n",
       "      <td>262000000</td>\n",
       "      <td>March</td>\n",
       "    </tr>\n",
       "    <tr>\n",
       "      <th>3</th>\n",
       "      <td>Exports</td>\n",
       "      <td>2015</td>\n",
       "      <td>2015-04-01</td>\n",
       "      <td>Sunday</td>\n",
       "      <td>All</td>\n",
       "      <td>All</td>\n",
       "      <td>All</td>\n",
       "      <td>$</td>\n",
       "      <td>74000000</td>\n",
       "      <td>336000000</td>\n",
       "      <td>April</td>\n",
       "    </tr>\n",
       "    <tr>\n",
       "      <th>4</th>\n",
       "      <td>Exports</td>\n",
       "      <td>2015</td>\n",
       "      <td>2015-05-01</td>\n",
       "      <td>Monday</td>\n",
       "      <td>All</td>\n",
       "      <td>All</td>\n",
       "      <td>All</td>\n",
       "      <td>$</td>\n",
       "      <td>105000000</td>\n",
       "      <td>442000000</td>\n",
       "      <td>May</td>\n",
       "    </tr>\n",
       "  </tbody>\n",
       "</table>\n",
       "</div>"
      ],
      "text/plain": [
       "  Direction  Year       Date   Weekday Country Commodity Transport Mode  \\\n",
       "0   Exports  2015 2015-01-01  Thursday     All       All            All   \n",
       "1   Exports  2015 2015-02-01    Friday     All       All            All   \n",
       "2   Exports  2015 2015-03-01  Saturday     All       All            All   \n",
       "3   Exports  2015 2015-04-01    Sunday     All       All            All   \n",
       "4   Exports  2015 2015-05-01    Monday     All       All            All   \n",
       "\n",
       "  Measure      Value  Cumulative Month Name  \n",
       "0       $  104000000   104000000    January  \n",
       "1       $   96000000   200000000   February  \n",
       "2       $   61000000   262000000      March  \n",
       "3       $   74000000   336000000      April  \n",
       "4       $  105000000   442000000        May  "
      ]
     },
     "execution_count": 19,
     "metadata": {},
     "output_type": "execute_result"
    }
   ],
   "source": [
    "df.head()"
   ]
  },
  {
   "cell_type": "code",
   "execution_count": 20,
   "id": "dc326da3",
   "metadata": {},
   "outputs": [
    {
     "name": "stdout",
     "output_type": "stream",
     "text": [
      "     Weekday  Commodity\n",
      "0     Friday      15959\n",
      "1     Monday      15931\n",
      "2   Saturday      15873\n",
      "3     Sunday      15925\n",
      "4   Thursday      15919\n",
      "5    Tuesday      15934\n",
      "6  Wednesday      15897\n"
     ]
    }
   ],
   "source": [
    "total_count = df.groupby(['Weekday'])['Commodity'].count().reset_index()\n",
    "print(total_count)"
   ]
  },
  {
   "cell_type": "code",
   "execution_count": 21,
   "id": "b30de9f7",
   "metadata": {},
   "outputs": [
    {
     "name": "stdout",
     "output_type": "stream",
     "text": [
      "     Weekday  Commodity\n",
      "0     Friday      15959\n",
      "5    Tuesday      15934\n",
      "1     Monday      15931\n",
      "3     Sunday      15925\n",
      "4   Thursday      15919\n",
      "6  Wednesday      15897\n",
      "2   Saturday      15873\n"
     ]
    }
   ],
   "source": [
    "sorted_total_count = total_count.sort_values(by = 'Commodity', ascending = False)\n",
    "print(sorted_total_count)"
   ]
  },
  {
   "cell_type": "markdown",
   "id": "265b28a1",
   "metadata": {},
   "source": []
  },
  {
   "cell_type": "markdown",
   "id": "c6831f2c",
   "metadata": {},
   "source": [
    "Q1- What was the total value of exports for each year?"
   ]
  },
  {
   "cell_type": "code",
   "execution_count": 24,
   "id": "a50ca299",
   "metadata": {},
   "outputs": [
    {
     "name": "stdout",
     "output_type": "stream",
     "text": [
      "Year\n",
      "2015    230137052000\n",
      "2016    227086143000\n",
      "2017    252018007000\n",
      "2018    269370678000\n",
      "2019    281446924000\n",
      "2020    282173545000\n",
      "2021    286428048000\n",
      "Name: Value, dtype: int64\n"
     ]
    }
   ],
   "source": [
    "total_export_per_year =df.loc[df['Direction'] == 'Exports',['Year','Value']].groupby('Year')[\"Value\"].sum()\n",
    "\n",
    "#filters the DataFrame to include only rows where the 'Direction' is 'Exports', and selects the 'Year' and 'Value' columns.\n",
    "#groups the filtered data by the 'Year' column.\n",
    "# applies the sum aggregation function to the 'Value' column.\n",
    "\n",
    "print(total_export_per_year)"
   ]
  },
  {
   "cell_type": "markdown",
   "id": "f91f4f0e",
   "metadata": {},
   "source": []
  },
  {
   "cell_type": "markdown",
   "id": "220bc9b5",
   "metadata": {},
   "source": [
    "Q2. What was the average value of reimports on Saturdays?"
   ]
  },
  {
   "cell_type": "code",
   "execution_count": 140,
   "id": "0acd22f6",
   "metadata": {},
   "outputs": [
    {
     "name": "stdout",
     "output_type": "stream",
     "text": [
      "The average value of reimports on saturday is : 75000.0\n"
     ]
    }
   ],
   "source": [
    "avg_reimports_saturdays = df.loc[(df['Direction'] == 'Reimports') & (df['Weekday'] == 'Saturday'),'Value'].mean()\n",
    "\n",
    "#filters the DataFrame to include only rows where the 'Direction' is 'Reimports' and the 'Weekday' is 'Saturday', and selects the 'Value' column.\n",
    "#calculates the mean (average) of the selected 'Value' column.\n",
    "\n",
    "print(\"The average value of reimports on saturday is :\",avg_reimports_saturdays)"
   ]
  },
  {
   "cell_type": "markdown",
   "id": "ce2d3fb2",
   "metadata": {},
   "source": []
  },
  {
   "cell_type": "markdown",
   "id": "4832a35c",
   "metadata": {},
   "source": [
    "Q3. Which country had the highest total value of exports for a given year?"
   ]
  },
  {
   "cell_type": "code",
   "execution_count": 26,
   "id": "0a709578",
   "metadata": {},
   "outputs": [
    {
     "name": "stdout",
     "output_type": "stream",
     "text": [
      "The country with the highest total value of exports was: All\n"
     ]
    }
   ],
   "source": [
    "max_export_country = (\n",
    "    df.loc[(df['Year']) & (df['Direction'] == 'Exports'),['Country','Value']]\n",
    "    .groupby('Country')['Value']\n",
    "    .sum()\n",
    "    .idxmax()\n",
    ")\n",
    "\n",
    "print(f\"The country with the highest total value of exports was: {max_export_country}\")  "
   ]
  },
  {
   "cell_type": "markdown",
   "id": "5eb46afb",
   "metadata": {},
   "source": []
  },
  {
   "cell_type": "code",
   "execution_count": 27,
   "id": "9fd3d5cc",
   "metadata": {},
   "outputs": [
    {
     "data": {
      "text/plain": [
       "array([2015, 2016, 2017, 2018, 2019, 2020, 2021], dtype=int64)"
      ]
     },
     "execution_count": 27,
     "metadata": {},
     "output_type": "execute_result"
    }
   ],
   "source": [
    "df['Year'].unique()"
   ]
  },
  {
   "cell_type": "markdown",
   "id": "031ccc78",
   "metadata": {},
   "source": []
  },
  {
   "cell_type": "markdown",
   "id": "6263f625",
   "metadata": {},
   "source": [
    "Annual Analysis :\n",
    "\n",
    "Q4. What is the total value of transactions for each year?"
   ]
  },
  {
   "cell_type": "code",
   "execution_count": 28,
   "id": "402ce49b",
   "metadata": {},
   "outputs": [
    {
     "name": "stdout",
     "output_type": "stream",
     "text": [
      "   Year         Value\n",
      "0  2015  408266052000\n",
      "1  2016  403704143000\n",
      "2  2017  444906007000\n",
      "3  2018  483121678000\n",
      "4  2019  499900924000\n",
      "5  2020  478846545000\n",
      "6  2021  519364048000\n"
     ]
    }
   ],
   "source": [
    "total_value_by_year = df.groupby('Year')['Value'].sum().reset_index()\n",
    "\n",
    "#Group by the 'Year' column.\n",
    "#apply aggregated Sum the 'Value' column for each year.\n",
    "\n",
    "print(total_value_by_year)"
   ]
  },
  {
   "cell_type": "markdown",
   "id": "6e01cb77",
   "metadata": {},
   "source": []
  },
  {
   "cell_type": "markdown",
   "id": "e600a87f",
   "metadata": {},
   "source": [
    "Q5. How has the cumulative value changed each year?"
   ]
  },
  {
   "cell_type": "code",
   "execution_count": 29,
   "id": "2ab9ed58",
   "metadata": {},
   "outputs": [
    {
     "name": "stdout",
     "output_type": "stream",
     "text": [
      "         index         Value\n",
      "0            0     104000000\n",
      "1            1     200000000\n",
      "2            2     261000000\n",
      "3            3     335000000\n",
      "4            4     440000000\n",
      "...        ...           ...\n",
      "111433  111433  519360048000\n",
      "111434  111434  519360048000\n",
      "111435  111435  519362048000\n",
      "111436  111436  519363048000\n",
      "111437  111437  519364048000\n",
      "\n",
      "[111438 rows x 2 columns]\n"
     ]
    }
   ],
   "source": [
    "cumulative_value_changes = df.groupby('Year')['Value'].cumsum().reset_index()\n",
    "\n",
    "print(cumulative_value_changes)"
   ]
  },
  {
   "cell_type": "markdown",
   "id": "6587f64c",
   "metadata": {},
   "source": []
  },
  {
   "cell_type": "markdown",
   "id": "6d7d2cb4",
   "metadata": {},
   "source": [
    "Trend Analysis :\n",
    "\n",
    "Q6. What are the monthly trends in the value of exports and reimports?"
   ]
  },
  {
   "cell_type": "code",
   "execution_count": 30,
   "id": "960f2cb4",
   "metadata": {},
   "outputs": [
    {
     "name": "stdout",
     "output_type": "stream",
     "text": [
      "Direction           Exports      Imports  Reimports\n",
      "Month-Year                                         \n",
      "2015-April      18214234000  13984000000   22000000\n",
      "2015-August     17603933000  15728000000   23000000\n",
      "2015-December   20438141000  14009000000   12000000\n",
      "2015-February   18639135000  13677000000   19000000\n",
      "2015-January    19872884000  15438000000   16000000\n",
      "...                     ...          ...        ...\n",
      "2021-March      27230213000  19318000000   22000000\n",
      "2021-May        26648683000  18401000000   10000000\n",
      "2021-November   26314840000  20164000000   14000000\n",
      "2021-October    24711720000  21929000000   13000000\n",
      "2021-September  22385891000  22564000000   14000000\n",
      "\n",
      "[84 rows x 3 columns]\n"
     ]
    }
   ],
   "source": [
    "#Combine year and month into a single 'Month-Year' column\n",
    "df['Month-Year'] = df['Year'].astype(str) + '-' + df['Month Name'].astype(str)\n",
    "\n",
    "# Calculate monthly totals for exports and reimports\n",
    "monthly_totals = df.groupby(['Month-Year','Direction'])['Value'].sum().unstack()\n",
    "\n",
    "# Print the monthly trends (assuming 'Value' represents trade value)\n",
    "print(monthly_totals)"
   ]
  },
  {
   "cell_type": "markdown",
   "id": "8f054a77",
   "metadata": {},
   "source": []
  },
  {
   "cell_type": "markdown",
   "id": "dc028c5b",
   "metadata": {},
   "source": [
    "Weekday Analysis:\n",
    "\n",
    "Q7. What is the average value of transactions for each weekday?"
   ]
  },
  {
   "cell_type": "code",
   "execution_count": 32,
   "id": "7fabebbf",
   "metadata": {},
   "outputs": [
    {
     "name": "stdout",
     "output_type": "stream",
     "text": [
      "     Weekday         Value\n",
      "0     Friday  3.340671e+07\n",
      "1     Monday  3.557595e+07\n",
      "2   Saturday  1.627085e+07\n",
      "3     Sunday  1.944868e+07\n",
      "4   Thursday  3.343985e+07\n",
      "5    Tuesday  3.266672e+07\n",
      "6  Wednesday  3.254595e+07\n"
     ]
    }
   ],
   "source": [
    "avg_value_weekday = df.groupby('Weekday')['Value'].mean().reset_index()\n",
    "\n",
    "print(avg_value_weekday)"
   ]
  },
  {
   "cell_type": "markdown",
   "id": "1c0a524b",
   "metadata": {},
   "source": []
  },
  {
   "cell_type": "markdown",
   "id": "7128f4d0",
   "metadata": {},
   "source": [
    "Q8. How many transactions occur on each weekday?"
   ]
  },
  {
   "cell_type": "code",
   "execution_count": 33,
   "id": "1d42fc80",
   "metadata": {},
   "outputs": [
    {
     "name": "stdout",
     "output_type": "stream",
     "text": [
      "Friday       15959\n",
      "Tuesday      15934\n",
      "Monday       15931\n",
      "Sunday       15925\n",
      "Thursday     15919\n",
      "Wednesday    15897\n",
      "Saturday     15873\n",
      "Name: Weekday, dtype: int64\n"
     ]
    }
   ],
   "source": [
    "weekday_count = df['Weekday'].value_counts()\n",
    "\n",
    "print(weekday_count)"
   ]
  },
  {
   "cell_type": "markdown",
   "id": "81bf5ebb",
   "metadata": {},
   "source": []
  },
  {
   "cell_type": "markdown",
   "id": "07bc04c3",
   "metadata": {},
   "source": [
    "Country-wise Analysis:\n",
    "\n",
    "Q9. Which countries are most frequently involved in transactions?"
   ]
  },
  {
   "cell_type": "code",
   "execution_count": 34,
   "id": "2c8a4e31",
   "metadata": {},
   "outputs": [
    {
     "name": "stdout",
     "output_type": "stream",
     "text": [
      "All                            50801\n",
      "China                          27736\n",
      "East Asia (excluding China)     7617\n",
      "United States                   7499\n",
      "Australia                       5082\n",
      "United Kingdom                  5080\n",
      "Japan                           2541\n",
      "European Union (27)             2541\n",
      "Total (excluding China)         2541\n",
      "Name: Country, dtype: int64\n"
     ]
    }
   ],
   "source": [
    "#Count the number of transactions for each country\n",
    "country_counts = df['Country'].value_counts()\n",
    "\n",
    "# Print the results (sorted by count in descending order)\n",
    "print(country_counts.sort_values(ascending = False))"
   ]
  },
  {
   "cell_type": "markdown",
   "id": "193a7833",
   "metadata": {},
   "source": []
  },
  {
   "cell_type": "markdown",
   "id": "cde2aa98",
   "metadata": {},
   "source": [
    "Q10. What is the total value of transactions per country?"
   ]
  },
  {
   "cell_type": "code",
   "execution_count": 36,
   "id": "813c63fd",
   "metadata": {},
   "outputs": [
    {
     "name": "stdout",
     "output_type": "stream",
     "text": [
      "Country\n",
      "All                            2315389349000\n",
      "Australia                       107686000000\n",
      "China                           282769573000\n",
      "East Asia (excluding China)     116562137000\n",
      "European Union (27)              26644000000\n",
      "Japan                            23155000000\n",
      "Total (excluding China)         291991000000\n",
      "United Kingdom                   21591000000\n",
      "United States                    52321338000\n",
      "Name: Value, dtype: int64\n"
     ]
    }
   ],
   "source": [
    "country_totals = df.groupby('Country')['Value'].sum()\n",
    "\n",
    "print(country_totals)"
   ]
  },
  {
   "cell_type": "markdown",
   "id": "2e8f8fd4",
   "metadata": {},
   "source": []
  },
  {
   "cell_type": "markdown",
   "id": "6301f864",
   "metadata": {},
   "source": [
    "Commodity Analysis:\n",
    "\n",
    "Q11. What are the most frequently traded commodities?"
   ]
  },
  {
   "cell_type": "code",
   "execution_count": 38,
   "id": "12a6a7e4",
   "metadata": {},
   "outputs": [
    {
     "name": "stdout",
     "output_type": "stream",
     "text": [
      "All                                45720\n",
      "Milk powder, butter, and cheese    15132\n",
      "Meat and edible offal              15100\n",
      "Logs, wood, and wood articles      10108\n",
      "Fish, crustaceans, and molluscs     7600\n",
      "Non-food manufactured goods         5082\n",
      "Electrical machinery and equip      5079\n",
      "Mechanical machinery and equip      5076\n",
      "Fruit                               2541\n",
      "Name: Commodity, dtype: int64\n"
     ]
    }
   ],
   "source": [
    "commodity_counts = df['Commodity'].value_counts()\n",
    "\n",
    "print(commodity_counts.sort_values(ascending = False))"
   ]
  },
  {
   "cell_type": "markdown",
   "id": "3792345b",
   "metadata": {},
   "source": []
  },
  {
   "cell_type": "markdown",
   "id": "a4ce7ac4",
   "metadata": {},
   "source": [
    "Q12. What is the total value of transactions for each commodity?"
   ]
  },
  {
   "cell_type": "code",
   "execution_count": 40,
   "id": "3c80acf7",
   "metadata": {},
   "outputs": [
    {
     "name": "stdout",
     "output_type": "stream",
     "text": [
      "                         Commodity          Value\n",
      "0                              All  2386667000000\n",
      "1   Electrical machinery and equip    51554000000\n",
      "2  Fish, crustaceans, and molluscs    15446832000\n",
      "3                            Fruit    22197000000\n",
      "4    Logs, wood, and wood articles    50645402000\n",
      "5            Meat and edible offal    78522372000\n",
      "6   Mechanical machinery and equip    72603000000\n",
      "7  Milk powder, butter, and cheese   157319791000\n",
      "8      Non-food manufactured goods   403154000000\n"
     ]
    }
   ],
   "source": [
    "commodity_totals = df.groupby('Commodity')['Value'].sum().reset_index()\n",
    "\n",
    "print(commodity_totals)"
   ]
  },
  {
   "cell_type": "markdown",
   "id": "6374ec27",
   "metadata": {},
   "source": []
  },
  {
   "cell_type": "markdown",
   "id": "02bb9903",
   "metadata": {},
   "source": [
    "Transport Mode Analysis:\n",
    "\n",
    "Q13. How is the transaction value distributed across different transport modes?"
   ]
  },
  {
   "cell_type": "code",
   "execution_count": 41,
   "id": "057f5856",
   "metadata": {},
   "outputs": [
    {
     "name": "stdout",
     "output_type": "stream",
     "text": [
      "Transport Mode\n",
      "Air     132602000000\n",
      "All    2437107397000\n",
      "Sea     668400000000\n",
      "Name: Value, dtype: int64\n"
     ]
    }
   ],
   "source": [
    "total_transport_mode_value = df.groupby('Transport Mode')['Value'].sum()\n",
    "\n",
    "print(total_transport_mode_value)"
   ]
  },
  {
   "cell_type": "markdown",
   "id": "8106be4b",
   "metadata": {},
   "source": []
  },
  {
   "cell_type": "markdown",
   "id": "76d951c3",
   "metadata": {},
   "source": [
    "Q14. Which transport mode has the highest average transaction value?"
   ]
  },
  {
   "cell_type": "code",
   "execution_count": 42,
   "id": "f635fd58",
   "metadata": {},
   "outputs": [
    {
     "name": "stdout",
     "output_type": "stream",
     "text": [
      "The highest average value transport mode is: Sea\n"
     ]
    }
   ],
   "source": [
    "transport_mode_avg = df.groupby('Transport Mode')['Value'].mean()\n",
    "\n",
    "print(\"The highest average value transport mode is:\",transport_mode_avg.idxmax())"
   ]
  },
  {
   "cell_type": "markdown",
   "id": "bb2e035d",
   "metadata": {},
   "source": []
  },
  {
   "cell_type": "markdown",
   "id": "f0cad354",
   "metadata": {},
   "source": [
    "Measure Analysis:\n",
    "\n",
    "Q15. What measures are most commonly used in transactions?"
   ]
  },
  {
   "cell_type": "code",
   "execution_count": 43,
   "id": "ec8291c7",
   "metadata": {},
   "outputs": [
    {
     "data": {
      "text/plain": [
       "array(['$', 'Tonnes'], dtype=object)"
      ]
     },
     "execution_count": 43,
     "metadata": {},
     "output_type": "execute_result"
    }
   ],
   "source": [
    "df['Measure'].unique()"
   ]
  },
  {
   "cell_type": "code",
   "execution_count": 46,
   "id": "ca8c3726",
   "metadata": {},
   "outputs": [
    {
     "name": "stdout",
     "output_type": "stream",
     "text": [
      "$\n"
     ]
    }
   ],
   "source": [
    "count_measure = df['Measure'].value_counts()\n",
    "mostly_used_measure = count_measure.idxmax()\n",
    "\n",
    "print(mostly_used_measure)"
   ]
  },
  {
   "cell_type": "markdown",
   "id": "523d3444",
   "metadata": {},
   "source": []
  },
  {
   "cell_type": "markdown",
   "id": "e825861a",
   "metadata": {},
   "source": [
    "Q16. What is the total value of transactions for each measure?\n"
   ]
  },
  {
   "cell_type": "code",
   "execution_count": 48,
   "id": "2b7a8d76",
   "metadata": {},
   "outputs": [
    {
     "name": "stdout",
     "output_type": "stream",
     "text": [
      "  Measure          Value\n",
      "0       $  3237797000000\n",
      "1  Tonnes      312397000\n"
     ]
    }
   ],
   "source": [
    "measures_total_value = df.groupby('Measure')['Value'].sum().reset_index()\n",
    "\n",
    "print(measures_total_value)"
   ]
  },
  {
   "cell_type": "markdown",
   "id": "9af95978",
   "metadata": {},
   "source": []
  },
  {
   "cell_type": "markdown",
   "id": "03d564a7",
   "metadata": {},
   "source": [
    "Cumulative Value Analysis:\n",
    "\n",
    "Q17. How does the cumulative value change over time? "
   ]
  },
  {
   "cell_type": "code",
   "execution_count": 49,
   "id": "f2bfe116",
   "metadata": {},
   "outputs": [
    {
     "name": "stdout",
     "output_type": "stream",
     "text": [
      "Year\n",
      "2015    73528808754000\n",
      "2016    73589415681000\n",
      "2017    78796366714000\n",
      "2018    86380178521000\n",
      "2019    90304728425000\n",
      "2020    87335509776000\n",
      "2021    86673544129000\n",
      "Name: Cumulative, dtype: int64\n"
     ]
    }
   ],
   "source": [
    "yearly_cumulative_change = df.groupby('Year')['Cumulative'].sum()\n",
    "\n",
    "print(yearly_cumulative_change)"
   ]
  },
  {
   "cell_type": "markdown",
   "id": "f7009292",
   "metadata": {},
   "source": []
  },
  {
   "cell_type": "markdown",
   "id": "a40e2fe8",
   "metadata": {},
   "source": [
    "Q18. What is the trend in cumulative values by year and by month?"
   ]
  },
  {
   "cell_type": "code",
   "execution_count": 53,
   "id": "7cff3b6b",
   "metadata": {},
   "outputs": [
    {
     "name": "stdout",
     "output_type": "stream",
     "text": [
      "        Month-Year      Cumulative\n",
      "0       2015-April   4442095621000\n",
      "1      2015-August   7204379821000\n",
      "2    2015-December   9939298157000\n",
      "3    2015-February   3065439668000\n",
      "4     2015-January   2597636835000\n",
      "..             ...             ...\n",
      "79      2021-March   4906585737000\n",
      "80        2021-May   6639819931000\n",
      "81   2021-November  11606196900000\n",
      "82    2021-October  11106851437000\n",
      "83  2021-September   9822759372000\n",
      "\n",
      "[84 rows x 2 columns]\n"
     ]
    }
   ],
   "source": [
    "#Combine year and month into a single 'Month-Year' column\n",
    "df['Month-Year'] = df['Year'].astype(str) + '-' + df['Month Name'].astype(str)\n",
    "\n",
    "#grouping month-year by cumulative trend\n",
    "month_year_cumulative = df.groupby('Month-Year')['Cumulative'].sum().reset_index()\n",
    "\n",
    "print(month_year_cumulative)\n"
   ]
  },
  {
   "cell_type": "markdown",
   "id": "6cdbbb6f",
   "metadata": {},
   "source": []
  },
  {
   "cell_type": "markdown",
   "id": "0a0d3381",
   "metadata": {},
   "source": [
    "Peak Analysis:\n",
    "\n",
    "Q19. What are the peak periods (months/weeks) for transaction values?"
   ]
  },
  {
   "cell_type": "code",
   "execution_count": 57,
   "id": "b0f96359",
   "metadata": {},
   "outputs": [
    {
     "name": "stdout",
     "output_type": "stream",
     "text": [
      "          Month-Weekday        Value\n",
      "0          April-Friday  41540645000\n",
      "1          April-Monday  43645148000\n",
      "2        April-Saturday  21895539000\n",
      "3          April-Sunday  24844191000\n",
      "4        April-Thursday  44251398000\n",
      "..                  ...          ...\n",
      "79   September-Saturday  19036132000\n",
      "80     September-Sunday  21500704000\n",
      "81   September-Thursday  46016850000\n",
      "82    September-Tuesday  41864053000\n",
      "83  September-Wednesday  39962283000\n",
      "\n",
      "[84 rows x 2 columns]\n"
     ]
    }
   ],
   "source": [
    "df['Month-Weekday'] = df['Month Name'].astype(str) + '-' + df['Weekday'].astype(str)\n",
    "\n",
    "month_Week_value = df.groupby('Month-Weekday')['Value'].sum().reset_index()\n",
    "\n",
    "print(month_Week_value)"
   ]
  },
  {
   "cell_type": "markdown",
   "id": "0d6b591a",
   "metadata": {},
   "source": []
  },
  {
   "cell_type": "markdown",
   "id": "61e91f36",
   "metadata": {},
   "source": [
    "Q20. How do transaction values vary across different seasons or quarters of the year?"
   ]
  },
  {
   "cell_type": "code",
   "execution_count": 60,
   "id": "f4b57429",
   "metadata": {},
   "outputs": [],
   "source": [
    "#crate a another column 'Season' and give seasons accordind to the month name\n",
    "def get_season(month):\n",
    "    if month in ['March']:\n",
    "        return 'Spring'\n",
    "    elif month in ['April', 'May']:\n",
    "        return 'Summer'\n",
    "    elif month in ['June', 'July', 'August', 'September']:\n",
    "        return 'Monsoon'\n",
    "    elif month in ['October', 'November']:\n",
    "        return 'Autumn'\n",
    "    elif month in ['December', 'January', 'February']:\n",
    "        return 'Winter Season'\n",
    "    \n",
    "df['Season'] = df['Month Name'].apply(get_season)"
   ]
  },
  {
   "cell_type": "code",
   "execution_count": 62,
   "id": "f86fac71",
   "metadata": {},
   "outputs": [],
   "source": [
    "#create a another column for quater\n",
    "df['Quarter'] = df['Date'].dt.quarter"
   ]
  },
  {
   "cell_type": "code",
   "execution_count": 63,
   "id": "b0a6d983",
   "metadata": {},
   "outputs": [
    {
     "data": {
      "text/html": [
       "<div>\n",
       "<style scoped>\n",
       "    .dataframe tbody tr th:only-of-type {\n",
       "        vertical-align: middle;\n",
       "    }\n",
       "\n",
       "    .dataframe tbody tr th {\n",
       "        vertical-align: top;\n",
       "    }\n",
       "\n",
       "    .dataframe thead th {\n",
       "        text-align: right;\n",
       "    }\n",
       "</style>\n",
       "<table border=\"1\" class=\"dataframe\">\n",
       "  <thead>\n",
       "    <tr style=\"text-align: right;\">\n",
       "      <th></th>\n",
       "      <th>Direction</th>\n",
       "      <th>Year</th>\n",
       "      <th>Date</th>\n",
       "      <th>Weekday</th>\n",
       "      <th>Country</th>\n",
       "      <th>Commodity</th>\n",
       "      <th>Transport Mode</th>\n",
       "      <th>Measure</th>\n",
       "      <th>Value</th>\n",
       "      <th>Cumulative</th>\n",
       "      <th>Month Name</th>\n",
       "      <th>Month-Year</th>\n",
       "      <th>Month-Weekday</th>\n",
       "      <th>Season</th>\n",
       "      <th>Quarter</th>\n",
       "    </tr>\n",
       "  </thead>\n",
       "  <tbody>\n",
       "    <tr>\n",
       "      <th>0</th>\n",
       "      <td>Exports</td>\n",
       "      <td>2015</td>\n",
       "      <td>2015-01-01</td>\n",
       "      <td>Thursday</td>\n",
       "      <td>All</td>\n",
       "      <td>All</td>\n",
       "      <td>All</td>\n",
       "      <td>$</td>\n",
       "      <td>104000000</td>\n",
       "      <td>104000000</td>\n",
       "      <td>January</td>\n",
       "      <td>2015-January</td>\n",
       "      <td>January-Thursday</td>\n",
       "      <td>Winter Season</td>\n",
       "      <td>1</td>\n",
       "    </tr>\n",
       "    <tr>\n",
       "      <th>1</th>\n",
       "      <td>Exports</td>\n",
       "      <td>2015</td>\n",
       "      <td>2015-02-01</td>\n",
       "      <td>Friday</td>\n",
       "      <td>All</td>\n",
       "      <td>All</td>\n",
       "      <td>All</td>\n",
       "      <td>$</td>\n",
       "      <td>96000000</td>\n",
       "      <td>200000000</td>\n",
       "      <td>February</td>\n",
       "      <td>2015-February</td>\n",
       "      <td>February-Friday</td>\n",
       "      <td>Winter Season</td>\n",
       "      <td>1</td>\n",
       "    </tr>\n",
       "    <tr>\n",
       "      <th>2</th>\n",
       "      <td>Exports</td>\n",
       "      <td>2015</td>\n",
       "      <td>2015-03-01</td>\n",
       "      <td>Saturday</td>\n",
       "      <td>All</td>\n",
       "      <td>All</td>\n",
       "      <td>All</td>\n",
       "      <td>$</td>\n",
       "      <td>61000000</td>\n",
       "      <td>262000000</td>\n",
       "      <td>March</td>\n",
       "      <td>2015-March</td>\n",
       "      <td>March-Saturday</td>\n",
       "      <td>Spring</td>\n",
       "      <td>1</td>\n",
       "    </tr>\n",
       "    <tr>\n",
       "      <th>3</th>\n",
       "      <td>Exports</td>\n",
       "      <td>2015</td>\n",
       "      <td>2015-04-01</td>\n",
       "      <td>Sunday</td>\n",
       "      <td>All</td>\n",
       "      <td>All</td>\n",
       "      <td>All</td>\n",
       "      <td>$</td>\n",
       "      <td>74000000</td>\n",
       "      <td>336000000</td>\n",
       "      <td>April</td>\n",
       "      <td>2015-April</td>\n",
       "      <td>April-Sunday</td>\n",
       "      <td>Summer</td>\n",
       "      <td>2</td>\n",
       "    </tr>\n",
       "    <tr>\n",
       "      <th>4</th>\n",
       "      <td>Exports</td>\n",
       "      <td>2015</td>\n",
       "      <td>2015-05-01</td>\n",
       "      <td>Monday</td>\n",
       "      <td>All</td>\n",
       "      <td>All</td>\n",
       "      <td>All</td>\n",
       "      <td>$</td>\n",
       "      <td>105000000</td>\n",
       "      <td>442000000</td>\n",
       "      <td>May</td>\n",
       "      <td>2015-May</td>\n",
       "      <td>May-Monday</td>\n",
       "      <td>Summer</td>\n",
       "      <td>2</td>\n",
       "    </tr>\n",
       "  </tbody>\n",
       "</table>\n",
       "</div>"
      ],
      "text/plain": [
       "  Direction  Year       Date   Weekday Country Commodity Transport Mode  \\\n",
       "0   Exports  2015 2015-01-01  Thursday     All       All            All   \n",
       "1   Exports  2015 2015-02-01    Friday     All       All            All   \n",
       "2   Exports  2015 2015-03-01  Saturday     All       All            All   \n",
       "3   Exports  2015 2015-04-01    Sunday     All       All            All   \n",
       "4   Exports  2015 2015-05-01    Monday     All       All            All   \n",
       "\n",
       "  Measure      Value  Cumulative Month Name     Month-Year     Month-Weekday  \\\n",
       "0       $  104000000   104000000    January   2015-January  January-Thursday   \n",
       "1       $   96000000   200000000   February  2015-February   February-Friday   \n",
       "2       $   61000000   262000000      March     2015-March    March-Saturday   \n",
       "3       $   74000000   336000000      April     2015-April      April-Sunday   \n",
       "4       $  105000000   442000000        May       2015-May        May-Monday   \n",
       "\n",
       "          Season  Quarter  \n",
       "0  Winter Season        1  \n",
       "1  Winter Season        1  \n",
       "2         Spring        1  \n",
       "3         Summer        2  \n",
       "4         Summer        2  "
      ]
     },
     "execution_count": 63,
     "metadata": {},
     "output_type": "execute_result"
    }
   ],
   "source": [
    "df.head()"
   ]
  },
  {
   "cell_type": "code",
   "execution_count": 68,
   "id": "f90283a5",
   "metadata": {},
   "outputs": [
    {
     "name": "stdout",
     "output_type": "stream",
     "text": [
      "Seasonal Transaction Value:\n",
      "          Season          Value\n",
      "0         Autumn   564086636000\n",
      "1        Monsoon  1068945106000\n",
      "2         Spring   273774866000\n",
      "3         Summer   541455171000\n",
      "4  Winter Season   789847618000\n"
     ]
    }
   ],
   "source": [
    "season_transaction_value = df.groupby('Season')['Value'].sum().reset_index()\n",
    "print(\"Seasonal Transaction Value:\")\n",
    "print(season_transaction_value)\n"
   ]
  },
  {
   "cell_type": "code",
   "execution_count": 69,
   "id": "82cd37c8",
   "metadata": {},
   "outputs": [
    {
     "name": "stdout",
     "output_type": "stream",
     "text": [
      "Quartrly Transaction value: \n",
      "   Quarter         Value\n",
      "0        1  808501078000\n",
      "1        2  806453297000\n",
      "2        3  803946980000\n",
      "3        4  819208042000\n"
     ]
    }
   ],
   "source": [
    "quarter_transaction_value = df.groupby('Quarter')['Value'].sum().reset_index()\n",
    "print(\"Quartrly Transaction value: \")\n",
    "print(quarter_transaction_value)"
   ]
  },
  {
   "cell_type": "markdown",
   "id": "31e52fc3",
   "metadata": {},
   "source": []
  },
  {
   "cell_type": "markdown",
   "id": "52eb8bae",
   "metadata": {},
   "source": [
    "Comparative Analysis:\n",
    "\n",
    "Q21. How do the values of exports compare to reimports over the same period?"
   ]
  },
  {
   "cell_type": "code",
   "execution_count": 70,
   "id": "9e27b208",
   "metadata": {},
   "outputs": [],
   "source": [
    "# Calculate total value for exports and reimports\n",
    "total_exports = df[df['Direction'] == 'Exports']['Value'].sum()\n",
    "total_reimports = df[df['Direction'] == 'Reimports']['Value'].sum()"
   ]
  },
  {
   "cell_type": "code",
   "execution_count": 71,
   "id": "2a2cbb29",
   "metadata": {},
   "outputs": [
    {
     "name": "stdout",
     "output_type": "stream",
     "text": [
      "Total Value of Exports: 1828660397000\n",
      "Total Value of Reimports: 1288000000\n"
     ]
    }
   ],
   "source": [
    "# Print the comparison\n",
    "print(\"Total Value of Exports:\", total_exports)\n",
    "print(\"Total Value of Reimports:\", total_reimports)"
   ]
  },
  {
   "cell_type": "code",
   "execution_count": 73,
   "id": "ae82abac",
   "metadata": {},
   "outputs": [],
   "source": [
    "# Prepare data for visualization\n",
    "directions = ['Exports', 'Reimports']\n",
    "values = [total_exports, total_reimports]"
   ]
  },
  {
   "cell_type": "code",
   "execution_count": 74,
   "id": "e7e9b37f",
   "metadata": {},
   "outputs": [],
   "source": [
    "import matplotlib.pyplot as plt"
   ]
  },
  {
   "cell_type": "code",
   "execution_count": 81,
   "id": "b5bf5f69",
   "metadata": {},
   "outputs": [
    {
     "data": {
      "image/png": "[encoded data removed]",
      "text/plain": [
       "<Figure size 800x600 with 1 Axes>"
      ]
     },
     "metadata": {},
     "output_type": "display_data"
    }
   ],
   "source": [
    "# Create a bar chart\n",
    "plt.figure(figsize=(8, 6))\n",
    "plt.bar(directions, values, color=['green', 'orange'])\n",
    "plt.xlabel('Direction')\n",
    "plt.ylabel('Total Value')\n",
    "plt.title('Comparison of Exports and Reimports')\n",
    "plt.xticks(rotation=0)  # Rotate x-axis labels for better readability\n",
    "plt.grid(axis='y', linestyle='--', alpha=0.7)  # Add gridlines for better visualization\n",
    "\n",
    "# Display the chart\n",
    "plt.tight_layout()\n",
    "plt.show()"
   ]
  },
  {
   "cell_type": "markdown",
   "id": "dadd60e6",
   "metadata": {},
   "source": []
  },
  {
   "cell_type": "markdown",
   "id": "9fa2dbc9",
   "metadata": {},
   "source": [
    "Q22. What is the percentage change in transaction values year over year?\n"
   ]
  },
  {
   "cell_type": "code",
   "execution_count": 89,
   "id": "fcb45b38",
   "metadata": {},
   "outputs": [
    {
     "name": "stdout",
     "output_type": "stream",
     "text": [
      "Int64Index([2016, 2017, 2018, 2019, 2020, 2021], dtype='int64', name='Year')\n",
      "[-1.117386316509117, 10.205955206161965, 8.589605534366274, 3.4730890299648376, -4.211710358831022, 8.46147965837365]\n"
     ]
    }
   ],
   "source": [
    "# Calculate yearly sum of transaction values\n",
    "df_yearly_sum = df.groupby('Year')['Value'].sum()\n",
    "\n",
    "# Calculate YoY percentage change (assuming data starts from year 2022)\n",
    "yoy_change = df_yearly_sum.pct_change(1) * 100  # Percentage change multiplied by 100\n",
    "\n",
    "# Prepare data for visualization (exclude the first year)\n",
    "years = yoy_change.index[1:]  # Extract years starting from the second year\n",
    "percentage_changes = yoy_change[1:].tolist()  # Extract percentage changes\n",
    "\n",
    "print(years)\n",
    "print(percentage_changes)\n"
   ]
  },
  {
   "cell_type": "code",
   "execution_count": 85,
   "id": "e2675dc4",
   "metadata": {},
   "outputs": [
    {
     "data": {
      "image/png": "[encoded data removed]",
      "text/plain": [
       "<Figure size 800x600 with 1 Axes>"
      ]
     },
     "metadata": {},
     "output_type": "display_data"
    }
   ],
   "source": [
    "# Create a bar chart\n",
    "plt.figure(figsize =(8,6))\n",
    "plt.bar(years, percentage_changes, color ='royalblue')\n",
    "plt.xlabel('Year')\n",
    "plt.ylabel('YoY percentage change (%)')\n",
    "plt.title('YoY Percentage change in Transaction Values')\n",
    "plt.xticks(rotation=0) # Rotate x-axis labels for better readability\n",
    "plt.grid(axis='y', linestyle='--', alpha=0.7) # Add gridlines for better visualization\n",
    "\n",
    "#Display the chart\n",
    "plt.tight_layout()\n",
    "plt.show()"
   ]
  },
  {
   "cell_type": "markdown",
   "id": "d1c86d27",
   "metadata": {},
   "source": []
  },
  {
   "cell_type": "markdown",
   "id": "3c4d8880",
   "metadata": {},
   "source": [
    "Correlation Analysis:\n",
    "\n",
    "Q23. Is there any correlation between the day of the week and the transaction value?"
   ]
  },
  {
   "cell_type": "code",
   "execution_count": 92,
   "id": "162bddba",
   "metadata": {},
   "outputs": [],
   "source": [
    "import numpy as np"
   ]
  },
  {
   "cell_type": "code",
   "execution_count": 98,
   "id": "fbaf9c68",
   "metadata": {},
   "outputs": [
    {
     "name": "stdout",
     "output_type": "stream",
     "text": [
      "Correlation Coefficient between Day of Week and Transaction Value:  0.011769086350185042\n"
     ]
    }
   ],
   "source": [
    "# Convert WeekDay to category and get category codes\n",
    "weekday_codes = df['Weekday'].astype('category').cat.codes\n",
    "\n",
    "#Calculate the correlation coefficient\n",
    "correlation = weekday_codes.corr(df['Value'])\n",
    "\n",
    "#print the correlation coefficient\n",
    "print(\"Correlation Coefficient between Day of Week and Transaction Value: \",correlation)"
   ]
  },
  {
   "cell_type": "code",
   "execution_count": 99,
   "id": "c1bd3b49",
   "metadata": {},
   "outputs": [
    {
     "name": "stdout",
     "output_type": "stream",
     "text": [
      "There is a weak or negligible correlation.\n"
     ]
    }
   ],
   "source": [
    "#Interpret the correlation\n",
    "if abs(correlation) < 0.2:\n",
    "    print(\"There is a weak or negligible correlation.\")\n",
    "elif 0.2 <= abs(correlation) < 0.5:\n",
    "    print(\"There is a fair correlation.\")\n",
    "elif 0.5 <= abs(correlation) < 0.8:\n",
    "    print(\"There is a moderate correlation.\")\n",
    "elif 0.8 <= abs(correlation) < 1:\n",
    "    print(\"This is a very strong correlation.\")"
   ]
  },
  {
   "cell_type": "code",
   "execution_count": 102,
   "id": "54da0961",
   "metadata": {},
   "outputs": [
    {
     "data": {
      "image/png": "[encoded data removed]",
      "text/plain": [
       "<Figure size 800x600 with 1 Axes>"
      ]
     },
     "metadata": {},
     "output_type": "display_data"
    }
   ],
   "source": [
    "# Create a scatter plot\n",
    "plt.figure(figsize=(8, 6))\n",
    "plt.scatter(df['Weekday'], df['Value'], color='skyblue')\n",
    "plt.xlabel('Day of Week')\n",
    "plt.ylabel('Transaction Value')\n",
    "plt.title('Transaction Value by Day of Week')\n",
    "plt.xticks(rotation=45, ha='right')  # Rotate x-axis labels for better readability\n",
    "\n",
    "# Display the chart\n",
    "plt.tight_layout()\n",
    "plt.show()"
   ]
  },
  {
   "cell_type": "markdown",
   "id": "8db7acea",
   "metadata": {},
   "source": []
  },
  {
   "cell_type": "markdown",
   "id": "72d072c6",
   "metadata": {},
   "source": [
    "Q24. How do different variables (e.g., country, transport mode) correlate with the transaction value?"
   ]
  },
  {
   "cell_type": "code",
   "execution_count": 131,
   "id": "ec22a064",
   "metadata": {},
   "outputs": [],
   "source": [
    "# One-hot encode the categorical variables\n",
    "df_encoded = pd.get_dummies(df, columns=['Country', 'Transport Mode'])"
   ]
  },
  {
   "cell_type": "code",
   "execution_count": 132,
   "id": "a20a4277",
   "metadata": {},
   "outputs": [
    {
     "name": "stderr",
     "output_type": "stream",
     "text": [
      "C:\\Users\\hp\\AppData\\Local\\Temp\\ipykernel_18988\\3925830937.py:2: FutureWarning: The default value of numeric_only in DataFrame.corr is deprecated. In a future version, it will default to False. Select only valid columns or specify the value of numeric_only to silence this warning.\n",
      "  correlation_matrix = df_encoded.corr()\n"
     ]
    }
   ],
   "source": [
    "# Calculate the correlation matrix\n",
    "correlation_matrix = df_encoded.corr()"
   ]
  },
  {
   "cell_type": "code",
   "execution_count": 133,
   "id": "cc753318",
   "metadata": {},
   "outputs": [],
   "source": [
    "# Extract only the correlations with 'transaction_value'\n",
    "transaction_value_correlations = correlation_matrix[['Value']]"
   ]
  },
  {
   "cell_type": "code",
   "execution_count": 134,
   "id": "f99ef907",
   "metadata": {},
   "outputs": [],
   "source": [
    "# Filter the correlations to include only 'country' and 'transport_mode'\n",
    "filtered_correlations = transaction_value_correlations[\n",
    "    transaction_value_correlations.index.str.startswith('Country') | \n",
    "    transaction_value_correlations.index.str.startswith('Transport Mode')\n",
    "]"
   ]
  },
  {
   "cell_type": "code",
   "execution_count": 135,
   "id": "2395e95a",
   "metadata": {},
   "outputs": [
    {
     "name": "stdout",
     "output_type": "stream",
     "text": [
      "                                        Value\n",
      "Country_All                          0.287077\n",
      "Country_Australia                   -0.032652\n",
      "Country_China                       -0.206144\n",
      "Country_East Asia (excluding China) -0.070732\n",
      "Country_European Union (27)         -0.053860\n",
      "Country_Japan                       -0.057842\n",
      "Country_Total (excluding China)      0.248986\n",
      "Country_United Kingdom              -0.102931\n",
      "Country_United States               -0.112600\n",
      "Transport Mode_Air                  -0.012305\n",
      "Transport Mode_All                  -0.299224\n",
      "Transport Mode_Sea                   0.425238\n"
     ]
    }
   ],
   "source": [
    "print(filtered_correlations)"
   ]
  },
  {
   "cell_type": "code",
   "execution_count": 136,
   "id": "d27e22e1",
   "metadata": {},
   "outputs": [],
   "source": [
    "import seaborn as sns"
   ]
  },
  {
   "cell_type": "code",
   "execution_count": 138,
   "id": "4b3773cb",
   "metadata": {},
   "outputs": [
    {
     "data": {
      "image/png": "[encoded data removed]",
      "text/plain": [
       "<Figure size 1000x800 with 1 Axes>"
      ]
     },
     "metadata": {},
     "output_type": "display_data"
    }
   ],
   "source": [
    "# Plot the filtered correlations\n",
    "plt.figure(figsize=(10, 8))\n",
    "sns.barplot(x=filtered_correlations.index, y=filtered_correlations['Value'])\n",
    "plt.xticks(rotation=45, ha='right')\n",
    "plt.xlabel('Variables')\n",
    "plt.ylabel('Correlation with Transaction Value')\n",
    "plt.title('Correlation of Country and Transport Mode with Transaction Value')\n",
    "plt.tight_layout()\n",
    "plt.show()"
   ]
  },
  {
   "cell_type": "code",
   "execution_count": 139,
   "id": "4682702b",
   "metadata": {},
   "outputs": [],
   "source": [
    "#The above code will produce a bar chart showing the correlation of country and transport_mode variables with transaction_value. \n",
    "#Each bar represents the correlation value of a specific country or transport_mode category with transaction_value. \n",
    "#Adjust the data and plotting parameters as necessary to fit your dataset and visualization preferences."
   ]
  },
  {
   "cell_type": "markdown",
   "id": "81188937",
   "metadata": {},
   "source": []
  },
  {
   "cell_type": "markdown",
   "id": "edb15f8a",
   "metadata": {},
   "source": []
  },
  {
   "cell_type": "markdown",
   "id": "221e4478",
   "metadata": {},
   "source": [
    "##### Aman Choudhary\n",
    "Email - amanchoudhary11189.ac@gmail.com\n",
    "\n",
    "Linkedin - https://www.linkedin.com/in/aman-choudhary-61a9361a0/"
   ]
  },
  {
   "cell_type": "code",
   "execution_count": null,
   "id": "69c55df3",
   "metadata": {},
   "outputs": [],
   "source": []
  }
 ],
 "metadata": {
  "kernelspec": {
   "display_name": "Python 3 (ipykernel)",
   "language": "python",
   "name": "python3"
  },
  "language_info": {
   "codemirror_mode": {
    "name": "ipython",
    "version": 3
   },
   "file_extension": ".py",
   "mimetype": "text/x-python",
   "name": "python",
   "nbconvert_exporter": "python",
   "pygments_lexer": "ipython3",
   "version": "3.11.3"
  }
 },
 "nbformat": 4,
 "nbformat_minor": 5
}
